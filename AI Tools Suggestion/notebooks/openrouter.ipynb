{
 "cells": [
  {
   "cell_type": "code",
   "execution_count": 1,
   "id": "6ab59e31",
   "metadata": {},
   "outputs": [
    {
     "data": {
      "text/plain": [
       "True"
      ]
     },
     "execution_count": 1,
     "metadata": {},
     "output_type": "execute_result"
    }
   ],
   "source": [
    "import asyncio\n",
    "from autogen_agentchat.agents import AssistantAgent\n",
    "from autogen_agentchat.teams import SelectorGroupChat\n",
    "from autogen_ext.models.openai import OpenAIChatCompletionClient\n",
    "from autogen_agentchat.conditions import TextMentionTermination\n",
    "from dotenv import load_dotenv\n",
    "import os\n",
    "\n",
    "# Load API key\n",
    "load_dotenv()"
   ]
  },
  {
   "cell_type": "code",
   "execution_count": null,
   "id": "ea5589cf",
   "metadata": {},
   "outputs": [],
   "source": [
    "OPEN_ROUTER_API_KEY = os.getenv(\"OPEN_ROUTER_API_KEY\")"
   ]
  },
  {
   "cell_type": "code",
   "execution_count": 16,
   "id": "a908f939",
   "metadata": {},
   "outputs": [
    {
     "name": "stderr",
     "output_type": "stream",
     "text": [
      "c:\\Users\\manit\\OneDrive\\Desktop\\code\\AI\\LLM\\Projects\\AI Tools Suggestion\\.venv\\lib\\site-packages\\autogen_ext\\models\\openai\\_openai_client.py:413: UserWarning: Missing required field 'structured_output' in ModelInfo. This field will be required in a future version of AutoGen.\n",
      "  validate_model_info(self._model_info)\n"
     ]
    }
   ],
   "source": [
    "open_router_model_client =  OpenAIChatCompletionClient(\n",
    "    base_url=\"https://openrouter.ai/api/v1\",\n",
    "    model=\"deepseek/deepseek-r1-0528:free\",\n",
    "    api_key = OPEN_ROUTER_API_KEY,\n",
    "    model_info={\n",
    "        \"family\":'deepseek',\n",
    "        \"vision\" :True,\n",
    "        \"function_calling\":True,\n",
    "        \"json_output\": False\n",
    "    }\n",
    ")"
   ]
  },
  {
   "cell_type": "code",
   "execution_count": 17,
   "id": "a0c7095f",
   "metadata": {},
   "outputs": [],
   "source": [
    "assistant_agent1 = AssistantAgent(\n",
    "    name = 'helpful_agent',\n",
    "    model_client = open_router_model_client,\n",
    "    system_message='You are a helpful assistant Agent'\n",
    ")"
   ]
  },
  {
   "cell_type": "code",
   "execution_count": 18,
   "id": "d98f4b9f",
   "metadata": {},
   "outputs": [
    {
     "name": "stdout",
     "output_type": "stream",
     "text": [
      "[TextMessage(source='user', models_usage=None, metadata={}, content='Hey suggest me the best songs of samantha ruth prabu?', type='TextMessage'), TextMessage(source='helpful_agent', models_usage=RequestUsage(prompt_tokens=26, completion_tokens=1711), metadata={}, content='Samantha Ruth Prabhu is a renowned actress in Indian cinema (primarily Telugu and Tamil films), not a singer. The \"best songs\" associated with her are popular tracks from movies she\\'s starred in, sung by playback singers. Here are some iconic songs from her films, known for their musical appeal and visuals featuring Samantha:\\n\\n### **Telugu Songs:**\\n1. **\"Ye Maaya Chesave\" (Ye Maaya Chesave, 2010)**  \\n   - Title track; soulful melody by A. R. Rahman.  \\n2. **\"Vintunnava\" (Ye Maaya Chesave, 2010)**  \\n   - Romantic classic sung by Karthik.  \\n3. **\"Ninnu Chuse Anandam\" (Thoofan, 2013)**  \\n   - Soulful track by Shreya Ghoshal.  \\n4. **\"Manohari\" (Baahubali: The Beginning, 2015)**  \\n   - Samantha\\'s sensational item number; sung by Damini Bhatla and M. M. Manasi.  \\n5. **\"Priyathama\" (Majili, 2019)**  \\n   - Heartfelt romantic track by Chitra & M. M. Keeravani.  \\n6. **\"Swing Zara\" (Jabardasth, 2013)**  \\n   - Energetic dance number by Ranina Reddy.  \\n\\n### **Tamil Songs:**\\n1. **\"Naanga Vera Maari\" (Kaththi, 2014)**  \\n   - Iconic celebratory song by Vishal Dadlani (Samantha in a special appearance).  \\n2. **\"Iraiva\" (Thanga Magan, 2015)**  \\n   - Viral dance track by Anirudh Ravichander ft. Dhanush.  \\n3. **\"Nee Partha Vizhigal\" (Neethane En Ponvasantham, 2012)**  \\n   - Romantic duet by A. R. Rahman (featuring Samantha & Jiiva).  \\n\\n### **Notable Recent Entries:**\\n- **\"Oo Antava\" (Pushpa: The Rise, 2021 - Telugu)**  \\n  - Electrifying item song by Indravathi Chauhan (Samantha’s cameo went viral!).  \\n- **\"Ma Ma Mahesha\" (Sita Ramam, 2022)**  \\n  - Romantic melody by Vishal Chandrasekhar (Samantha fans’ favorite).  \\n\\n### 🎧 **Where to Listen:**  \\nThese tracks are available on YouTube, Spotify, Apple Music, and Gaana. Search by song/movie name.  \\n\\n*Note: Samantha doesn\\'t sing professionally; these are movie soundtracks picturized on her.* Enjoy the music! 🎶', type='TextMessage')]\n"
     ]
    }
   ],
   "source": [
    "result = await assistant_agent1.run(task = 'Hey suggest me the best songs of samantha ruth prabu?')\n",
    "print(result.messages)"
   ]
  },
  {
   "cell_type": "code",
   "execution_count": 19,
   "id": "e803e793",
   "metadata": {},
   "outputs": [
    {
     "data": {
      "text/plain": [
       "'Samantha Ruth Prabhu is a renowned actress in Indian cinema (primarily Telugu and Tamil films), not a singer. The \"best songs\" associated with her are popular tracks from movies she\\'s starred in, sung by playback singers. Here are some iconic songs from her films, known for their musical appeal and visuals featuring Samantha:\\n\\n### **Telugu Songs:**\\n1. **\"Ye Maaya Chesave\" (Ye Maaya Chesave, 2010)**  \\n   - Title track; soulful melody by A. R. Rahman.  \\n2. **\"Vintunnava\" (Ye Maaya Chesave, 2010)**  \\n   - Romantic classic sung by Karthik.  \\n3. **\"Ninnu Chuse Anandam\" (Thoofan, 2013)**  \\n   - Soulful track by Shreya Ghoshal.  \\n4. **\"Manohari\" (Baahubali: The Beginning, 2015)**  \\n   - Samantha\\'s sensational item number; sung by Damini Bhatla and M. M. Manasi.  \\n5. **\"Priyathama\" (Majili, 2019)**  \\n   - Heartfelt romantic track by Chitra & M. M. Keeravani.  \\n6. **\"Swing Zara\" (Jabardasth, 2013)**  \\n   - Energetic dance number by Ranina Reddy.  \\n\\n### **Tamil Songs:**\\n1. **\"Naanga Vera Maari\" (Kaththi, 2014)**  \\n   - Iconic celebratory song by Vishal Dadlani (Samantha in a special appearance).  \\n2. **\"Iraiva\" (Thanga Magan, 2015)**  \\n   - Viral dance track by Anirudh Ravichander ft. Dhanush.  \\n3. **\"Nee Partha Vizhigal\" (Neethane En Ponvasantham, 2012)**  \\n   - Romantic duet by A. R. Rahman (featuring Samantha & Jiiva).  \\n\\n### **Notable Recent Entries:**\\n- **\"Oo Antava\" (Pushpa: The Rise, 2021 - Telugu)**  \\n  - Electrifying item song by Indravathi Chauhan (Samantha’s cameo went viral!).  \\n- **\"Ma Ma Mahesha\" (Sita Ramam, 2022)**  \\n  - Romantic melody by Vishal Chandrasekhar (Samantha fans’ favorite).  \\n\\n### 🎧 **Where to Listen:**  \\nThese tracks are available on YouTube, Spotify, Apple Music, and Gaana. Search by song/movie name.  \\n\\n*Note: Samantha doesn\\'t sing professionally; these are movie soundtracks picturized on her.* Enjoy the music! 🎶'"
      ]
     },
     "execution_count": 19,
     "metadata": {},
     "output_type": "execute_result"
    }
   ],
   "source": [
    "result.messages[-1].content"
   ]
  },
  {
   "cell_type": "markdown",
   "id": "6ba67f26",
   "metadata": {},
   "source": [
    "\"Hello! 😊 I'm just a virtual assistant—so, no feelings, but everything's running smoothly on my end. Thanks for asking! How are **you** doing today? Anything fun, challenging, or interesting happening? I’m here to help however I can!\""
   ]
  },
  {
   "cell_type": "markdown",
   "id": "1a356217",
   "metadata": {},
   "source": [
    "'Samantha Ruth Prabhu is a renowned actress in Indian cinema (primarily Telugu and Tamil films), not a singer. The \"best songs\" associated with her are popular tracks from movies she\\'s starred in, sung by playback singers. Here are some iconic songs from her films, known for their musical appeal and visuals featuring Samantha:\\n\\n### \n",
    "\n",
    "### **Telugu Songs:**\\n\n",
    "1. **\"Ye Maaya Chesave\" (Ye Maaya Chesave, 2010)**  \\n   - Title track; soulful melody by A. R. Rahman.  \\n \n",
    "2. **\"Vintunnava\" (Ye Maaya Chesave, 2010)**  \\n   - Romantic classic sung by Karthik.  \\n\n",
    "3. **\"Ninnu Chuse Anandam\" (Thoofan, 2013)**  \\n   - Soulful track by Shreya Ghoshal.  \\n \n",
    "4. **\"Manohari\" (Baahubali: The Beginning, 2015)**  \\n   - Samantha\\'s sensational item number; sung by Damini Bhatla and M. M. Manasi.  \\n \n",
    "5. **\"Priyathama\" (Majili, 2019)**  \\n   - Heartfelt romantic track by Chitra & M. M. Keeravani.  \\n\n",
    "6. **\"Swing Zara\" (Jabardasth, 2013)**  \\n   - Energetic dance number by Ranina Reddy.  \\n\\n\n",
    "### **Tamil Songs:**\\n \n",
    "1. **\"Naanga Vera Maari\" (Kaththi, 2014)**  \\n   - Iconic celebratory song by Vishal Dadlani (Samantha in a special appearance).  \\n\n",
    "2. **\"Iraiva\" (Thanga Magan, 2015)**  \\n   - Viral dance track by Anirudh Ravichander ft. Dhanush.  \\n \n",
    "3. **\"Nee Partha Vizhigal\" (Neethane En Ponvasantham, 2012)**  \\n   - Romantic duet by A. R. Rahman (featuring Samantha & Jiiva).  \\n\\n\n",
    "### **Notable Recent Entries:**\\n- \n",
    "**\"Oo Antava\" (Pushpa: The Rise, 2021 - Telugu)**  \\n  - Electrifying item song by Indravathi Chauhan (Samantha’s cameo went viral!).  \\n- \n",
    "**\"Ma Ma Mahesha\" (Sita Ramam, 2022)**  \\n  - Romantic melody by Vishal Chandrasekhar (Samantha fans’ favorite).  \\n\\n### \n",
    "\n",
    "🎧 **Where to Listen:**  \\nThese tracks are available on YouTube, Spotify, Apple Music, and Gaana. Search by song/movie name.  \\n\\n\n",
    "\n",
    "*Note: Samantha doesn\\'t sing professionally; these are movie soundtracks picturized on her.* Enjoy the music! 🎶'"
   ]
  },
  {
   "cell_type": "code",
   "execution_count": null,
   "id": "a3cdb82a",
   "metadata": {},
   "outputs": [],
   "source": []
  }
 ],
 "metadata": {
  "kernelspec": {
   "display_name": "AI Tools Suggestion",
   "language": "python",
   "name": "python3"
  },
  "language_info": {
   "codemirror_mode": {
    "name": "ipython",
    "version": 3
   },
   "file_extension": ".py",
   "mimetype": "text/x-python",
   "name": "python",
   "nbconvert_exporter": "python",
   "pygments_lexer": "ipython3",
   "version": "3.10.17"
  }
 },
 "nbformat": 4,
 "nbformat_minor": 5
}
